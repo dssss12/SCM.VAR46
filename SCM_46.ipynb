{
 "cells": [
  {
   "attachments": {},
   "cell_type": "markdown",
   "metadata": {},
   "source": [
    "# 46. Функция Ламберта"
   ]
  },
  {
   "attachments": {},
   "cell_type": "markdown",
   "metadata": {},
   "source": [
    "## 1. Введение"
   ]
  },
  {
   "attachments": {},
   "cell_type": "markdown",
   "metadata": {},
   "source": [
    "Функцией Ламберта называется неинъективная функция $W(x)$, которая определяется равенством $$x=W(x) e ^ {W(x)}$$"
   ]
  },
  {
   "attachments": {},
   "cell_type": "markdown",
   "metadata": {},
   "source": [
    "При действительном аргументе функция $W(x)$ определена на промежутке $ x \\in [-\\frac{1}{e};+\\infin)$. График этой функции условно можно разделить на две ветви: ветвь 0, удовлетворяющую условию $y \\ge -1$; и ветвь -1, удовлетворяющую обратному условию $y < -1$. Изобразим график, используя функцию `scipy.special.lambertw()`:"
   ]
  },
  {
   "cell_type": "code",
   "execution_count": 198,
   "metadata": {},
   "outputs": [],
   "source": [
    "import matplotlib.pyplot as plt\n",
    "import scipy.optimize as opt\n",
    "import scipy.special as spec\n",
    "import numpy as np\n",
    "import time\n",
    "from warnings import simplefilter"
   ]
  },
  {
   "cell_type": "code",
   "execution_count": 199,
   "metadata": {},
   "outputs": [],
   "source": [
    "%matplotlib inline\n",
    "simplefilter('ignore')"
   ]
  },
  {
   "cell_type": "code",
   "execution_count": 200,
   "metadata": {},
   "outputs": [],
   "source": [
    "def draw_by_builtin():\n",
    "    xs = np.linspace(-0.5, 3, 10000)\n",
    "    ys = np.array([spec.lambertw(x) if -np.exp(-1) <= x else None for x in xs])\n",
    "    plt.plot(xs, ys, color='black')\n",
    "    ys = np.array([spec.lambertw(x, k=-1) if -np.exp(-1) <= x < 0 else None for x in xs])\n",
    "    plt.plot(xs, ys, color='black')\n"
   ]
  },
  {
   "cell_type": "code",
   "execution_count": 201,
   "metadata": {},
   "outputs": [
    {
     "data": {
      "image/png": "[encoded data removed]",
      "text/plain": [
       "<Figure size 640x480 with 1 Axes>"
      ]
     },
     "metadata": {},
     "output_type": "display_data"
    }
   ],
   "source": [
    "draw_by_builtin()\n",
    "plt.title('$y = W(x)$')\n",
    "plt.show()"
   ]
  },
  {
   "attachments": {},
   "cell_type": "markdown",
   "metadata": {},
   "source": [
    "## 2. Реализация собственного аналога для вычисления $W(x)$"
   ]
  },
  {
   "attachments": {},
   "cell_type": "markdown",
   "metadata": {},
   "source": [
    "### 2.1 $W_{-1}(x)$"
   ]
  },
  {
   "attachments": {},
   "cell_type": "markdown",
   "metadata": {},
   "source": [
    "Для начала создадим функцию, которая будет вычислять $W_{-1}(x)$ - значение функции Ламберта на ветви -1. Для этого воспользуемся функцией `scipy.optimize.newton()`, которая в отличие от `scipty.optimize.brentq()` не требует конкретного отрезка, на концах которого функция принимает значения, различающиеся знаком. Также заметим: для того, чтобы получить значение именно \"нижней\" ветви, переместим центр координат на единицу вверх, чтобы корень из \"верхней\" ветви был вне рассмотрения функции, а после вычисления вычтем прибавленную единицу, чтобы получить корректный результат. Заметим: мы манипулируем именно единицей в силу равенства $W(-\\frac{1}{e}) = -1$. Таким образом:"
   ]
  },
  {
   "cell_type": "code",
   "execution_count": 202,
   "metadata": {},
   "outputs": [],
   "source": [
    "def LambertW_1(x, tol=1e-10):\n",
    "    def f(x,y):\n",
    "        return (x-1) * np.exp(x-1) - y\n",
    "    return opt.newton(f, -1.543, args=[x], tol=tol, maxiter=100) - 1"
   ]
  },
  {
   "cell_type": "code",
   "execution_count": 203,
   "metadata": {},
   "outputs": [
    {
     "data": {
      "text/plain": [
       "(-1.0000000078804607, -1.0023334581084349)"
      ]
     },
     "execution_count": 203,
     "metadata": {},
     "output_type": "execute_result"
    }
   ],
   "source": [
    "LambertW_1(-np.exp(-1)), LambertW_1(-np.exp(-1) + 1e-6)"
   ]
  },
  {
   "attachments": {},
   "cell_type": "markdown",
   "metadata": {},
   "source": [
    "### 2.2 $W_0(x)$"
   ]
  },
  {
   "attachments": {},
   "cell_type": "markdown",
   "metadata": {},
   "source": [
    "Чтобы реализовать функцию $W_0(x)$, воспользуемся еще одним разбиением: при $x \\in [-\\frac{1}{e}; 0]$ будем использовать `scipy.optimize.newton()`; а при $x > 0$ будем использовать `scipy.optimize.brentq()`. Для этого нам потребуется отрезок, внутри которого содержится искомое значение функции. Заметим, что для достаточно больших положительных $x$ верно неравенство $ln(x) \\ge W_0(x)$, а для $x \\in [-e^{-1}; e]$ определим правой границей сам $x$. Таким образом:"
   ]
  },
  {
   "cell_type": "code",
   "execution_count": 204,
   "metadata": {},
   "outputs": [],
   "source": [
    "def LambertW0(x, tol=1e-8):\n",
    "    lb = -np.exp(-1)\n",
    "    rb = x if x <= np.e else np.log(x)\n",
    "\n",
    "    def f(x, y):\n",
    "        return x * np.exp(x) - y\n",
    "    \n",
    "    if x < 0: \n",
    "        return opt.newton(f, -0.35, args=[x])\n",
    "    \n",
    "    return opt.brentq(f, lb, rb, xtol=tol, args=[x])"
   ]
  },
  {
   "cell_type": "code",
   "execution_count": 205,
   "metadata": {},
   "outputs": [
    {
     "data": {
      "text/plain": [
       "(-0.9999999845835569, -0.997670166272039, 0.0, 2.009943559350384)"
      ]
     },
     "execution_count": 205,
     "metadata": {},
     "output_type": "execute_result"
    }
   ],
   "source": [
    "LambertW0(-np.exp(-1)), LambertW0(-np.exp(-1) + 1e-6), LambertW0(0), LambertW0(15)"
   ]
  },
  {
   "attachments": {},
   "cell_type": "markdown",
   "metadata": {},
   "source": [
    "### 2.3 $W(x)$"
   ]
  },
  {
   "attachments": {},
   "cell_type": "markdown",
   "metadata": {},
   "source": [
    "Теперь объеденим две написанные функции в одну селекторную:"
   ]
  },
  {
   "cell_type": "code",
   "execution_count": 206,
   "metadata": {},
   "outputs": [],
   "source": [
    "def myLambertW(x, k=0, tol=1e-8):\n",
    "    if x < -np.exp(-1): return None\n",
    "    if k == -1:\n",
    "        return LambertW_1(x, tol=tol)\n",
    "    else: \n",
    "        return LambertW0(x, tol=tol)"
   ]
  },
  {
   "attachments": {},
   "cell_type": "markdown",
   "metadata": {},
   "source": [
    "## 3. Тестирование"
   ]
  },
  {
   "attachments": {},
   "cell_type": "markdown",
   "metadata": {},
   "source": [
    "### 3.1 Временные затраты"
   ]
  },
  {
   "attachments": {},
   "cell_type": "markdown",
   "metadata": {},
   "source": [
    "Создадим функцию, которая будет выводить временные результаты работы функций над заданным списком значений в табличном виде:"
   ]
  },
  {
   "cell_type": "code",
   "execution_count": 207,
   "metadata": {},
   "outputs": [],
   "source": [
    "def analize_time(k,values):\n",
    "    output_template = \"%-25s |  %-25s %-10s | %-25s %-10s | %-10s %-10s\"\n",
    "    print(output_template % ('x', f'lambertw(x,{k})', 'Время (нс)', f'myLambertW(x, {k})', 'Время (нс)', 'Разность', '%'))\n",
    "    print('=' * 137)\n",
    "    for x in values:\n",
    "        if k == -1 and x >= 0: continue\n",
    "        t1 = time.perf_counter_ns()\n",
    "        w1 = spec.lambertw(x, k)\n",
    "        t1 = time.perf_counter_ns() - t1\n",
    "\n",
    "        t2 = time.perf_counter_ns()\n",
    "        w2 = myLambertW(x, k, tol=1e-8)\n",
    "        t2 = time.perf_counter_ns() - t2\n",
    "        print(output_template % (x, w1.real, t1, w2, t2, t2-t1, t1/t2 * 100))\n",
    "        \n",
    "    print('\\n')"
   ]
  },
  {
   "attachments": {},
   "cell_type": "markdown",
   "metadata": {},
   "source": [
    "Протестируем функцию на некоторых значениях"
   ]
  },
  {
   "cell_type": "code",
   "execution_count": 208,
   "metadata": {},
   "outputs": [],
   "source": [
    "st = -np.exp(-1)\n",
    "values = [st, st+1e-6, st+1e-5, st+1e-4, st+1e-3, st+1e-2, st+1e-1, st+1, 0, 0.1, 0.2, 3, 15, 1e2, 1e4, 1e10]"
   ]
  },
  {
   "attachments": {},
   "cell_type": "markdown",
   "metadata": {},
   "source": [
    "Таблица для \"верхней\" ветви:"
   ]
  },
  {
   "cell_type": "code",
   "execution_count": 209,
   "metadata": {},
   "outputs": [
    {
     "name": "stdout",
     "output_type": "stream",
     "text": [
      "x                         |  lambertw(x,0)             Время (нс) | myLambertW(x, 0)          Время (нс) | Разность   %         \n",
      "=========================================================================================================================================\n",
      "-0.36787944117144233      |  nan                       60000      | -0.9999999845835569       2806100    | 2746100    2.1381989237732086\n",
      "-0.36787844117144236      |  -0.9976701662721043       32900      | -0.997670166272039        971500     | 938600     3.386515697375193\n",
      "-0.3678694411714423       |  -0.9926447551971053       41500      | -0.9926447551964047       1031800    | 990300     4.022097305679395\n",
      "-0.36777944117144235      |  -0.9768628655744274       20200      | -0.9768628655744109       807900     | 787700     2.500309444238148\n",
      "-0.36687944117144233      |  -0.9280201500545666       27300      | -0.9280201500545657       619600     | 592300     4.4060684312459655\n",
      "-0.3578794411714423       |  -0.7832291989812975       22000      | -0.7832291989812971       433300     | 411300     5.077313639510732\n",
      "-0.26787944117144236      |  -0.39938245253978094      16500      | -0.3993824525397806       239000     | 222500     6.903765690376569\n",
      "0.6321205588285577        |  0.41670399881776593       9000       | 0.4167039988177671        83100      | 74100      10.830324909747292\n",
      "0                         |  0.0                       6500       | 0.0                       38500      | 32000      16.883116883116884\n",
      "0.1                       |  0.09127652716086226       8100       | 0.09127652939633679       48200      | 40100      16.804979253112034\n",
      "0.2                       |  0.16891597349910958       6700       | 0.16891597328361793       51000      | 44300      13.137254901960786\n",
      "3                         |  1.0499088949640398        8400       | 1.0499088949633617        100500     | 92100      8.358208955223882\n",
      "15                        |  2.0099435593505657        10100      | 2.009943559350384         112700     | 102600     8.96184560780834\n",
      "100.0                     |  3.38563014029005          7700       | 3.385630139874143         74800      | 67100      10.294117647058822\n",
      "10000.0                   |  7.231846038093373         6600       | 7.231846037217299         74100      | 67500      8.906882591093117\n",
      "10000000000.0             |  20.028685413304952        6300       | 20.02868541330483         85600      | 79300      7.359813084112149\n",
      "\n",
      "\n"
     ]
    }
   ],
   "source": [
    "analize_time(0, values)"
   ]
  },
  {
   "attachments": {},
   "cell_type": "markdown",
   "metadata": {},
   "source": [
    "Таблица для \"нижней\" ветви:"
   ]
  },
  {
   "cell_type": "code",
   "execution_count": 210,
   "metadata": {},
   "outputs": [
    {
     "name": "stdout",
     "output_type": "stream",
     "text": [
      "x                         |  lambertw(x,-1)            Время (нс) | myLambertW(x, -1)         Время (нс) | Разность   %         \n",
      "=========================================================================================================================================\n",
      "-0.36787944117144233      |  nan                       50300      | -1.0000000078804607       2218900    | 2168600    2.2668889990535854\n",
      "-0.36787844117144236      |  -1.0023334581084755       27700      | -1.0023334581088885       938200     | 910500     2.952462161586016\n",
      "-0.3678694411714423       |  -1.0073914890313          18600      | -1.0073914890313362       604600     | 586000     3.0764141581210716\n",
      "-0.36777944117144235      |  -1.023499619082083        15700      | -1.0234996190820769       497500     | 481800     3.1557788944723617\n",
      "-0.36687944117144233      |  -1.075608941186623        10900      | -1.0756089411866239       408700     | 397800     2.666992904330805\n",
      "-0.3578794411714423       |  -1.2534937913672146       12000      | -1.2534937913672148       279600     | 267600     4.291845493562231\n",
      "-0.26787944117144236      |  -2.0206252287754034       9700       | -2.020625228775404        267000     | 257300     3.6329588014981278\n",
      "\n",
      "\n"
     ]
    }
   ],
   "source": [
    "analize_time(-1, values)"
   ]
  },
  {
   "attachments": {},
   "cell_type": "markdown",
   "metadata": {},
   "source": [
    "* В графе \"%\" указано соотношение времени вычисления функции `scipy.special.lambertw()` и `myLambertW()`"
   ]
  },
  {
   "attachments": {},
   "cell_type": "markdown",
   "metadata": {},
   "source": [
    "### 3.2 Точность вычислений"
   ]
  },
  {
   "attachments": {},
   "cell_type": "markdown",
   "metadata": {},
   "source": [
    "Аналогично предыдущему пункту, создадим функцию для наглядного представления точности результатов работы функций:"
   ]
  },
  {
   "cell_type": "code",
   "execution_count": 211,
   "metadata": {},
   "outputs": [],
   "source": [
    "def analyze_accuracy(k, values):\n",
    "    output_template = \"%-20s |  %-20s %-20s %-23s | %-20s %-20s %-23s\"\n",
    "    def f(x): return x * np.exp(x)\n",
    "    print(output_template % ('x', f'lambertw(x, {k})', 'Обратное', 'Разность', f'myLambertW(x, {k})', 'Обратное', 'Разность'))\n",
    "    print('=' * 157)\n",
    "    for x in values:\n",
    "        if k == -1 and x >= 0: continue\n",
    "        w1 = spec.lambertw(x, k)\n",
    "        w2 = myLambertW(x, k)\n",
    "        x1 = f(w1.real)\n",
    "        x2 = f(w2)\n",
    "        print(output_template % (x, w1.real, x1, x-x1, w2, x2, x-x2))"
   ]
  },
  {
   "attachments": {},
   "cell_type": "markdown",
   "metadata": {},
   "source": [
    "Характеристики для \"верхней\" ветви:"
   ]
  },
  {
   "cell_type": "code",
   "execution_count": 212,
   "metadata": {},
   "outputs": [
    {
     "name": "stdout",
     "output_type": "stream",
     "text": [
      "x                    |  lambertw(x, 0)       Обратное             Разность                | myLambertW(x, 0)     Обратное             Разность               \n",
      "=============================================================================================================================================================\n",
      "-0.36787944117144233 |  nan                  nan                  nan                     | -0.9999999845835569  -0.3678794411714423  -5.551115123125783e-17 \n",
      "-0.36787844117144236 |  -0.9976701662721043  -0.3678784411714424  5.551115123125783e-17   | -0.997670166272039   -0.3678784411714423  -5.551115123125783e-17 \n",
      "-0.3678694411714423  |  -0.9926447551971053  -0.36786944117144227 -5.551115123125783e-17  | -0.9926447551964047  -0.3678694411714404  -1.942890293094024e-15 \n",
      "-0.36777944117144235 |  -0.9768628655744274  -0.36777944117144235 0.0                     | -0.9768628655744109  -0.36777944117144223 -1.1102230246251565e-16\n",
      "-0.36687944117144233 |  -0.9280201500545666  -0.3668794411714423  -5.551115123125783e-17  | -0.9280201500545657  -0.3668794411714423  -5.551115123125783e-17 \n",
      "-0.3578794411714423  |  -0.7832291989812975  -0.3578794411714424  5.551115123125783e-17   | -0.7832291989812971  -0.3578794411714423  0.0                    \n",
      "-0.26787944117144236 |  -0.39938245253978094 -0.2678794411714424  5.551115123125783e-17   | -0.3993824525397806  -0.2678794411714423  -5.551115123125783e-17 \n",
      "0.6321205588285577   |  0.41670399881776593  0.6321205588285577   0.0                     | 0.4167039988177671   0.6321205588285602   -2.55351295663786e-15  \n",
      "0                    |  0.0                  0.0                  0.0                     | 0.0                  0.0                  0.0                    \n",
      "0.1                  |  0.09127652716086226  0.1                  0.0                     | 0.09127652939633679  0.10000000267267058  -2.6726705709689824e-09\n",
      "0.2                  |  0.16891597349910958  0.20000000000000004  -2.7755575615628914e-17 | 0.16891597328361793  0.19999999970175514  2.982448732424814e-10  \n",
      "3                    |  1.0499088949640398   2.9999999999999996   4.440892098500626e-16   | 1.0499088949633617   2.999999999996027    3.97282207131866e-12   \n",
      "15                   |  2.0099435593505657   14.999999999999996   3.552713678800501e-15   | 2.009943559350384    14.999999999995916   4.083844373781176e-12  \n",
      "100.0                |  3.38563014029005     100.0                0.0                     | 3.385630139874143    99.99999994612477    5.38752260581532e-08   \n",
      "10000.0              |  7.231846038093373    10000.000000000002   -1.8189894035458565e-12 | 7.231846037217299    9999.999990027847    9.972152838599868e-06  \n",
      "10000000000.0        |  20.028685413304952   10000000000.000017   -1.71661376953125e-05   | 20.02868541330483    9999999999.998747    0.0012531280517578125  \n"
     ]
    }
   ],
   "source": [
    "analyze_accuracy(0, values)"
   ]
  },
  {
   "attachments": {},
   "cell_type": "markdown",
   "metadata": {},
   "source": [
    "И для \"нижней\":"
   ]
  },
  {
   "cell_type": "code",
   "execution_count": 213,
   "metadata": {},
   "outputs": [
    {
     "name": "stdout",
     "output_type": "stream",
     "text": [
      "x                    |  lambertw(x, -1)      Обратное             Разность                | myLambertW(x, -1)    Обратное             Разность               \n",
      "=============================================================================================================================================================\n",
      "-0.36787944117144233 |  nan                  nan                  nan                     | -1.0000000078804607  -0.36787944117144233 0.0                    \n",
      "-0.36787844117144236 |  -1.0023334581084755  -0.3678784411714423  -5.551115123125783e-17  | -1.0023334581088885  -0.36787844117144197 -3.885780586188048e-16 \n",
      "-0.3678694411714423  |  -1.0073914890313     -0.3678694411714424  5.551115123125783e-17   | -1.0073914890313362  -0.36786944117144227 -5.551115123125783e-17 \n",
      "-0.36777944117144235 |  -1.023499619082083   -0.3677794411714423  -5.551115123125783e-17  | -1.0234996190820769  -0.36777944117144235 0.0                    \n",
      "-0.36687944117144233 |  -1.075608941186623   -0.3668794411714424  5.551115123125783e-17   | -1.0756089411866239  -0.36687944117144233 0.0                    \n",
      "-0.3578794411714423  |  -1.2534937913672146  -0.3578794411714423  0.0                     | -1.2534937913672148  -0.3578794411714423  0.0                    \n",
      "-0.26787944117144236 |  -2.0206252287754034  -0.26787944117144236 0.0                     | -2.020625228775404   -0.2678794411714423  -5.551115123125783e-17 \n"
     ]
    }
   ],
   "source": [
    "analyze_accuracy(-1, values)"
   ]
  },
  {
   "attachments": {},
   "cell_type": "markdown",
   "metadata": {},
   "source": [
    "## 4. Вывод"
   ]
  },
  {
   "attachments": {},
   "cell_type": "markdown",
   "metadata": {},
   "source": [
    "Как мы можем заметить, самописная функция на основе `scipy.optimize.newton()` и `scipy.optimize.brentq()` оказалась гораздо медленее (примерно в 30-50 раз при отрицательных $x$ и в 10-20 при положительных), чем функция `scipy.special.lambertw()`. Конечно же, это связано с тем, что используя наш способ вычисления производится огромное количество ресурснозатратных вычислений, которые вовсе необязательны для получения значения, но необходимы в контексте требуемой реализации. Для оптимизации времененных затрат, вероятно, можно было бы использовать математически выведенные формулы: например, известно, что $$W_{-1}(x)=ln\\frac{-x}{-ln\\frac{-x}{...}}$$ "
   ]
  },
  {
   "attachments": {},
   "cell_type": "markdown",
   "metadata": {},
   "source": [
    "Кроме того, явное отличие в том, что в точке $x_0=-e^{-1}$ функция `scipy.special.lambertw()` возвращает NaN, а наша функция - достаточно близкое к истинному значение при заданной точности."
   ]
  },
  {
   "attachments": {},
   "cell_type": "markdown",
   "metadata": {},
   "source": [
    "Также заметим, что обратные вычисления показывают, что функция `scipy.special.lambertw()` точнее вычисляет значения $W_1(x)$, наша же функция лучше справляется с ветвью $W_{-1}(x)$"
   ]
  },
  {
   "attachments": {},
   "cell_type": "markdown",
   "metadata": {},
   "source": [
    "В заключение скажем, что самописная функция действительно может быть полезна в определенных, узкоспециализированных обстоятельствах. Но в падавляющем большинстве случаев, достаточно и готовой функции `scipy.special.lambertw()`, которая в целом точнее и определенно быстрее, чем `myLambertW()`.  "
   ]
  }
 ],
 "metadata": {
  "kernelspec": {
   "display_name": "Python 3",
   "language": "python",
   "name": "python3"
  },
  "language_info": {
   "codemirror_mode": {
    "name": "ipython",
    "version": 3
   },
   "file_extension": ".py",
   "mimetype": "text/x-python",
   "name": "python",
   "nbconvert_exporter": "python",
   "pygments_lexer": "ipython3",
   "version": "3.8.10"
  },
  "orig_nbformat": 4
 },
 "nbformat": 4,
 "nbformat_minor": 2
}
